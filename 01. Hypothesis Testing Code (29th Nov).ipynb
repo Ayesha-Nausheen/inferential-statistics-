{
 "cells": [
  {
   "cell_type": "code",
   "execution_count": 1,
   "id": "4e224408",
   "metadata": {},
   "outputs": [],
   "source": [
    "import numpy as np"
   ]
  },
  {
   "cell_type": "code",
   "execution_count": 2,
   "id": "08b7d1a2",
   "metadata": {},
   "outputs": [],
   "source": [
    "from scipy import stats"
   ]
  },
  {
   "cell_type": "markdown",
   "id": "98ae0961",
   "metadata": {},
   "source": [
    "# Left Tail test\n",
    "## Question\n",
    "A machine is producing perfume bottles with the long term average of 150ml and the standard deviation of 2ml. Four bottles were picked and the average volume was found to be 149ml. Has the average volume min of 150ml? Test with 95% confidence level.\n",
    "## Solution\n",
    "- Null Hypothesis: Mean volume >= 150ml\n",
    "- Alternate Hypothesis: Mean volume < 150ml\n",
    "- Alpha = 1 - 0.95 = 0.05\n",
    "- Left Tail Z test\n",
    "- Z calculated = (Observed mean - population mean) / standard error\n",
    "- z= (x-meu) / (sigma/square root of n)"
   ]
  },
  {
   "cell_type": "code",
   "execution_count": 3,
   "id": "807df26d",
   "metadata": {},
   "outputs": [
    {
     "data": {
      "text/plain": [
       "-1.0"
      ]
     },
     "execution_count": 3,
     "metadata": {},
     "output_type": "execute_result"
    }
   ],
   "source": [
    "z_cal=(149-150)/(2/np.sqrt(4))\n",
    "z_cal"
   ]
  },
  {
   "cell_type": "code",
   "execution_count": 4,
   "id": "28033338",
   "metadata": {},
   "outputs": [
    {
     "data": {
      "text/plain": [
       "0.15865525393145707"
      ]
     },
     "execution_count": 4,
     "metadata": {},
     "output_type": "execute_result"
    }
   ],
   "source": [
    "stats.norm.cdf(-1.0)"
   ]
  },
  {
   "cell_type": "markdown",
   "id": "4828fc62",
   "metadata": {},
   "source": [
    "Inferences:\n",
    "- p>alpha\n",
    "- p High - Null fly\n",
    "- Do not reject H0"
   ]
  },
  {
   "cell_type": "markdown",
   "id": "53d2bd8c",
   "metadata": {},
   "source": [
    "# Right Tail Test\n",
    "## Question\n",
    "The mean response times for a random sample of 30 Pizza Deliveries is 32 minutes. The population standard deviation is believed to be 10 minutes. The pizza delivery services director wants to perform a hypothesis test, with a =0.05 level of significance, to determine whether the service goal of 30 mins or less is being achieved\n",
    "## Solution\n",
    "- Null Hypothesis: Mean time <= 30\n",
    "- Alternate Hypothesis: Mean time > 30\n",
    "- Alpha = 0.05\n",
    "- Right Tail Z test -- Right Tail Rejection\n",
    "- Z calculated = (Observed mean - population mean) / standard error\n",
    "- z= (x - M) / (0 / vn)"
   ]
  },
  {
   "cell_type": "code",
   "execution_count": 5,
   "id": "42bc0fde",
   "metadata": {},
   "outputs": [
    {
     "name": "stdout",
     "output_type": "stream",
     "text": [
      "1.0954451150103321\n"
     ]
    }
   ],
   "source": [
    "z_cal=(32-30)/(10/np.sqrt(30))\n",
    "print(z_cal)"
   ]
  },
  {
   "cell_type": "code",
   "execution_count": 6,
   "id": "7cda1c35",
   "metadata": {},
   "outputs": [
    {
     "data": {
      "text/plain": [
       "0.1378565720320355"
      ]
     },
     "execution_count": 6,
     "metadata": {},
     "output_type": "execute_result"
    }
   ],
   "source": [
    "1-stats.norm.cdf(1.09)"
   ]
  },
  {
   "cell_type": "code",
   "execution_count": 7,
   "id": "8fea45dc",
   "metadata": {},
   "outputs": [
    {
     "data": {
      "text/plain": [
       "0.1378565720320355"
      ]
     },
     "execution_count": 7,
     "metadata": {},
     "output_type": "execute_result"
    }
   ],
   "source": [
    "stats.norm.sf(1.09)"
   ]
  },
  {
   "cell_type": "markdown",
   "id": "7e48ad1f",
   "metadata": {},
   "source": [
    "Inferences:\n",
    "- P high - Null Fly\n",
    "- Do not reject HO.\n",
    "- There are not sufficient statistical evidence to infer that Pizza delivery services is not meeting the response goal of 30 minutes."
   ]
  },
  {
   "cell_type": "markdown",
   "id": "0c94b085",
   "metadata": {},
   "source": [
    "# Two tail Test\n",
    "## Question\n",
    "Assume that a sample of 30 milk carton provides a sample mean of 505 ml.The population standard deviation is believed to be 10 ml. Perform a hypothesis test, at the 0.03 level of significance, population mean 500 ml and to help determine whether the filling process should continue operating or be stopped and corrected."
   ]
  },
  {
   "cell_type": "markdown",
   "id": "bd0957e4",
   "metadata": {},
   "source": [
    "# Solution\n",
    "- Null Hypothesis: Mean = 500ml\n",
    "- Alternate Hypothesis: Mean 1- 500ml\n",
    "- Two Tail Z-Test\n",
    "- Alpha = 0.03\n",
    "- Z calculated = (Observed mean - population mean) / standard error\n",
    "- Z= (X- H) / (0 / vn)"
   ]
  },
  {
   "cell_type": "code",
   "execution_count": 8,
   "id": "30906c8b",
   "metadata": {},
   "outputs": [
    {
     "name": "stdout",
     "output_type": "stream",
     "text": [
      "2.7386127875258306\n"
     ]
    }
   ],
   "source": [
    "z_cal=(505-500)/(10/np.sqrt(30))\n",
    "print(z_cal)"
   ]
  },
  {
   "cell_type": "code",
   "execution_count": 9,
   "id": "9e77795d",
   "metadata": {},
   "outputs": [
    {
     "data": {
      "text/plain": [
       "0.00616989932054416"
      ]
     },
     "execution_count": 9,
     "metadata": {},
     "output_type": "execute_result"
    }
   ],
   "source": [
    "pvalue=2*stats.norm.sf(z_cal)\n",
    "pvalue"
   ]
  },
  {
   "cell_type": "markdown",
   "id": "a5afee7e",
   "metadata": {},
   "source": [
    "Inferences:\n",
    "- p low - null go\n",
    "- reject h0\n",
    "- there is no sufficient stat evidence to infer that the null hypothesis is true i.e the mean filling quantity is not 500ml"
   ]
  }
 ],
 "metadata": {
  "kernelspec": {
   "display_name": "Python 3 (ipykernel)",
   "language": "python",
   "name": "python3"
  },
  "language_info": {
   "codemirror_mode": {
    "name": "ipython",
    "version": 3
   },
   "file_extension": ".py",
   "mimetype": "text/x-python",
   "name": "python",
   "nbconvert_exporter": "python",
   "pygments_lexer": "ipython3",
   "version": "3.9.13"
  }
 },
 "nbformat": 4,
 "nbformat_minor": 5
}
